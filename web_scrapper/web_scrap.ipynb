{
 "cells": [
  {
   "cell_type": "code",
   "execution_count": 4,
   "metadata": {},
   "outputs": [
    {
     "data": {
      "text/plain": [
       "'Chhaileng Tim'"
      ]
     },
     "execution_count": 4,
     "metadata": {},
     "output_type": "execute_result"
    }
   ],
   "source": [
    "import requests\n",
    "from bs4 import BeautifulSoup\n",
    "\n",
    "url = 'https://web.facebook.com/profile.php?id=100009455602740&sk=friends'\n",
    "\n",
    "response = requests.get(url)\n",
    "html = response.text\n",
    "soup = BeautifulSoup(html,'html.parser')\n"
   ]
  },
  {
   "cell_type": "code",
   "execution_count": 16,
   "metadata": {},
   "outputs": [
    {
     "data": {
      "text/plain": [
       "'Chhaileng Tim'"
      ]
     },
     "execution_count": 16,
     "metadata": {},
     "output_type": "execute_result"
    }
   ],
   "source": [
    "soup.title.text.strip()"
   ]
  },
  {
   "cell_type": "code",
   "execution_count": 19,
   "metadata": {},
   "outputs": [
    {
     "data": {
      "text/plain": [
       "[<div id=\"splash-screen\"><div style=\"align-items: center; background: var(--nav-bar-background); display: flex; height: 56px; justify-content: space-between; padding: 0 16px; position: relative;\"><div style=\"position: relative; height:40px;\"><svg height=\"40\" style=\"fill: var(--primary-button-background); position: relative; z-index: 1;\" viewbox=\"0 0 36 36\" width=\"40\" xmlns=\"http://www.w3.org/2000/svg\"><path d=\"M20.181 35.87C29.094 34.791 36 27.202 36 18c0-9.941-8.059-18-18-18S0 8.059 0 18c0 8.442 5.811 15.526 13.652 17.471L14 34h5.5l.681 1.87Z\"></path><path d=\"M13.651 35.471v-11.97H9.936V18h3.715v-2.37c0-6.127 2.772-8.964 8.784-8.964 1.138 0 3.103.223 3.91.446v4.983c-.425-.043-1.167-.065-2.081-.065-2.952 0-4.09 1.116-4.09 4.025V18h5.883l-1.008 5.5h-4.867v12.37a18.183 18.183 0 0 1-6.53-.399Z\" style=\"fill: var(--always-white)\"></path></svg></div><div style=\"display:flex\"><div style=\"background: var(--secondary-button-background); border-radius: 100%; display: inline-block; height: 40px; margin-left: 8px; width: 40px;\"></div><div style=\"background: var(--secondary-button-background); border-radius: 100%; display: inline-block; height: 40px; margin-left: 8px; width: 40px;\"></div><div style=\"background: var(--secondary-button-background); border-radius: 100%; display: inline-block; height: 40px; margin-left: 8px; width: 40px;\"></div><div style=\"background: var(--secondary-button-background); border-radius: 100%; display: inline-block; height: 40px; margin-left: 8px; width: 40px;\"></div></div><div style=\"background-image: url(data:image/png;base64,iVBORw0KGgoAAAANSUhEUgAAAAIAAAAOBAMAAAD3WtBsAAAAFVBMVEUAAAAAAAAAAAAAAAAAAAAAAAD29va1cB7UAAAAB3RSTlMCCwQHGBAaZf6MKAAAABpJREFUCNdjSGNIY3BhCGUQBEJjIFQCQigAACyJAjLNW4w5AAAAAElFTkSuQmCC); background-size: 1px 7px; bottom: -6px; height: 7px; left: 0; position: absolute; right: 0;\"></div></div></div>,\n",
       " <div style=\"align-items: center; background: var(--nav-bar-background); display: flex; height: 56px; justify-content: space-between; padding: 0 16px; position: relative;\"><div style=\"position: relative; height:40px;\"><svg height=\"40\" style=\"fill: var(--primary-button-background); position: relative; z-index: 1;\" viewbox=\"0 0 36 36\" width=\"40\" xmlns=\"http://www.w3.org/2000/svg\"><path d=\"M20.181 35.87C29.094 34.791 36 27.202 36 18c0-9.941-8.059-18-18-18S0 8.059 0 18c0 8.442 5.811 15.526 13.652 17.471L14 34h5.5l.681 1.87Z\"></path><path d=\"M13.651 35.471v-11.97H9.936V18h3.715v-2.37c0-6.127 2.772-8.964 8.784-8.964 1.138 0 3.103.223 3.91.446v4.983c-.425-.043-1.167-.065-2.081-.065-2.952 0-4.09 1.116-4.09 4.025V18h5.883l-1.008 5.5h-4.867v12.37a18.183 18.183 0 0 1-6.53-.399Z\" style=\"fill: var(--always-white)\"></path></svg></div><div style=\"display:flex\"><div style=\"background: var(--secondary-button-background); border-radius: 100%; display: inline-block; height: 40px; margin-left: 8px; width: 40px;\"></div><div style=\"background: var(--secondary-button-background); border-radius: 100%; display: inline-block; height: 40px; margin-left: 8px; width: 40px;\"></div><div style=\"background: var(--secondary-button-background); border-radius: 100%; display: inline-block; height: 40px; margin-left: 8px; width: 40px;\"></div><div style=\"background: var(--secondary-button-background); border-radius: 100%; display: inline-block; height: 40px; margin-left: 8px; width: 40px;\"></div></div><div style=\"background-image: url(data:image/png;base64,iVBORw0KGgoAAAANSUhEUgAAAAIAAAAOBAMAAAD3WtBsAAAAFVBMVEUAAAAAAAAAAAAAAAAAAAAAAAD29va1cB7UAAAAB3RSTlMCCwQHGBAaZf6MKAAAABpJREFUCNdjSGNIY3BhCGUQBEJjIFQCQigAACyJAjLNW4w5AAAAAElFTkSuQmCC); background-size: 1px 7px; bottom: -6px; height: 7px; left: 0; position: absolute; right: 0;\"></div></div>,\n",
       " <div style=\"position: relative; height:40px;\"><svg height=\"40\" style=\"fill: var(--primary-button-background); position: relative; z-index: 1;\" viewbox=\"0 0 36 36\" width=\"40\" xmlns=\"http://www.w3.org/2000/svg\"><path d=\"M20.181 35.87C29.094 34.791 36 27.202 36 18c0-9.941-8.059-18-18-18S0 8.059 0 18c0 8.442 5.811 15.526 13.652 17.471L14 34h5.5l.681 1.87Z\"></path><path d=\"M13.651 35.471v-11.97H9.936V18h3.715v-2.37c0-6.127 2.772-8.964 8.784-8.964 1.138 0 3.103.223 3.91.446v4.983c-.425-.043-1.167-.065-2.081-.065-2.952 0-4.09 1.116-4.09 4.025V18h5.883l-1.008 5.5h-4.867v12.37a18.183 18.183 0 0 1-6.53-.399Z\" style=\"fill: var(--always-white)\"></path></svg></div>,\n",
       " <div style=\"display:flex\"><div style=\"background: var(--secondary-button-background); border-radius: 100%; display: inline-block; height: 40px; margin-left: 8px; width: 40px;\"></div><div style=\"background: var(--secondary-button-background); border-radius: 100%; display: inline-block; height: 40px; margin-left: 8px; width: 40px;\"></div><div style=\"background: var(--secondary-button-background); border-radius: 100%; display: inline-block; height: 40px; margin-left: 8px; width: 40px;\"></div><div style=\"background: var(--secondary-button-background); border-radius: 100%; display: inline-block; height: 40px; margin-left: 8px; width: 40px;\"></div></div>,\n",
       " <div style=\"background: var(--secondary-button-background); border-radius: 100%; display: inline-block; height: 40px; margin-left: 8px; width: 40px;\"></div>,\n",
       " <div style=\"background: var(--secondary-button-background); border-radius: 100%; display: inline-block; height: 40px; margin-left: 8px; width: 40px;\"></div>,\n",
       " <div style=\"background: var(--secondary-button-background); border-radius: 100%; display: inline-block; height: 40px; margin-left: 8px; width: 40px;\"></div>,\n",
       " <div style=\"background: var(--secondary-button-background); border-radius: 100%; display: inline-block; height: 40px; margin-left: 8px; width: 40px;\"></div>,\n",
       " <div style=\"background-image: url(data:image/png;base64,iVBORw0KGgoAAAANSUhEUgAAAAIAAAAOBAMAAAD3WtBsAAAAFVBMVEUAAAAAAAAAAAAAAAAAAAAAAAD29va1cB7UAAAAB3RSTlMCCwQHGBAaZf6MKAAAABpJREFUCNdjSGNIY3BhCGUQBEJjIFQCQigAACyJAjLNW4w5AAAAAElFTkSuQmCC); background-size: 1px 7px; bottom: -6px; height: 7px; left: 0; position: absolute; right: 0;\"></div>,\n",
       " <div id=\"mount_0_0_8Q\"></div>,\n",
       " <div hidden=\"\" id=\"has-finished-comet-page\" style=\"display: none;\"></div>]"
      ]
     },
     "execution_count": 19,
     "metadata": {},
     "output_type": "execute_result"
    }
   ],
   "source": [
    "soup.find_all('div')"
   ]
  },
  {
   "cell_type": "code",
   "execution_count": null,
   "metadata": {},
   "outputs": [],
   "source": []
  }
 ],
 "metadata": {
  "kernelspec": {
   "display_name": "base",
   "language": "python",
   "name": "python3"
  },
  "language_info": {
   "codemirror_mode": {
    "name": "ipython",
    "version": 3
   },
   "file_extension": ".py",
   "mimetype": "text/x-python",
   "name": "python",
   "nbconvert_exporter": "python",
   "pygments_lexer": "ipython3",
   "version": "3.10.9"
  }
 },
 "nbformat": 4,
 "nbformat_minor": 2
}
