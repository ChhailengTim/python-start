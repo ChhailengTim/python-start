{
 "cells": [
  {
   "cell_type": "code",
   "execution_count": null,
   "metadata": {},
   "outputs": [
    {
     "name": "stdout",
     "output_type": "stream",
     "text": [
      "normal\n"
     ]
    }
   ],
   "source": [
    "temp = 35\n",
    "if temp < 35:\n",
    "    print('cool')\n",
    "elif temp >=35 and temp<37:\n",
    "    print(\"normal\")\n",
    "else:\n",
    "    print('hot')"
   ]
  },
  {
   "cell_type": "code",
   "execution_count": null,
   "metadata": {},
   "outputs": [
    {
     "name": "stdout",
     "output_type": "stream",
     "text": [
      "normal\n"
     ]
    }
   ],
   "source": [
    "print('cool') if temp <35 else print('normal') if temp >=35 and temp<37 else print('hot') "
   ]
  },
  {
   "cell_type": "code",
   "execution_count": 10,
   "metadata": {},
   "outputs": [
    {
     "name": "stdout",
     "output_type": "stream",
     "text": [
      "0\n",
      "1\n",
      "2\n",
      "3\n",
      "4\n",
      "5\n",
      "6\n"
     ]
    }
   ],
   "source": [
    "a =  0\n",
    "while a < 10:\n",
    "    print(a)\n",
    "    a += 1\n",
    "    if a == 7:\n",
    "        break"
   ]
  },
  {
   "cell_type": "code",
   "execution_count": 12,
   "metadata": {},
   "outputs": [
    {
     "name": "stdout",
     "output_type": "stream",
     "text": [
      "0\n",
      "1\n",
      "2\n",
      "3\n",
      "4\n",
      "5\n",
      "6\n",
      "7\n",
      "8\n",
      "9\n",
      "end sesion\n"
     ]
    }
   ],
   "source": [
    "a =  0\n",
    "while a < 10:\n",
    "    print(a)\n",
    "    a += 1\n",
    "    if a == 7:\n",
    "        continue\n",
    "    print(a)\n",
    "else:\n",
    "    print('end sesion')"
   ]
  },
  {
   "cell_type": "code",
   "execution_count": 15,
   "metadata": {},
   "outputs": [
    {
     "name": "stdout",
     "output_type": "stream",
     "text": [
      "H\n",
      "e\n",
      "l\n",
      "l\n",
      "o\n",
      " \n",
      "P\n",
      "y\n",
      "t\n",
      "h\n",
      "o\n",
      "n\n"
     ]
    }
   ],
   "source": [
    "text = \"Hello Python\"\n",
    "for x in text:\n",
    "    print(x)"
   ]
  },
  {
   "cell_type": "code",
   "execution_count": 16,
   "metadata": {},
   "outputs": [
    {
     "name": "stdout",
     "output_type": "stream",
     "text": [
      "0\n",
      "1\n",
      "2\n",
      "3\n",
      "4\n",
      "5\n",
      "6\n",
      "7\n",
      "8\n",
      "9\n"
     ]
    }
   ],
   "source": [
    "for x in range(10):\n",
    "    print(x)"
   ]
  },
  {
   "cell_type": "code",
   "execution_count": 17,
   "metadata": {},
   "outputs": [
    {
     "name": "stdout",
     "output_type": "stream",
     "text": [
      "2\n",
      "3\n",
      "4\n",
      "5\n",
      "6\n",
      "7\n",
      "8\n",
      "9\n"
     ]
    }
   ],
   "source": [
    "for x in range(2, 10):\n",
    "    print(x)"
   ]
  },
  {
   "cell_type": "code",
   "execution_count": 21,
   "metadata": {},
   "outputs": [
    {
     "name": "stdout",
     "output_type": "stream",
     "text": [
      "0\n",
      "2\n",
      "4\n",
      "6\n",
      "8\n"
     ]
    }
   ],
   "source": [
    "for x in range(0, 10, 2):\n",
    "    print(x)"
   ]
  },
  {
   "cell_type": "markdown",
   "metadata": {},
   "source": [
    "List in python"
   ]
  },
  {
   "cell_type": "code",
   "execution_count": 24,
   "metadata": {},
   "outputs": [
    {
     "name": "stdout",
     "output_type": "stream",
     "text": [
      "['Hello', 2, True, 5.6, 8]\n",
      "Hello\n",
      "2\n",
      "True\n",
      "5.6\n",
      "8\n"
     ]
    }
   ],
   "source": [
    "list1 = ['Hello', 2, True, 5.6, 8]\n",
    "print(list1)\n",
    "for x in list1:\n",
    "    print(x)"
   ]
  },
  {
   "cell_type": "code",
   "execution_count": 25,
   "metadata": {},
   "outputs": [
    {
     "name": "stdout",
     "output_type": "stream",
     "text": [
      "2\n",
      "Hello\n",
      "8\n",
      "5.6\n"
     ]
    }
   ],
   "source": [
    "print(list1[1])\n",
    "print(list1[0])\n",
    "print(list1[-1])\n",
    "print(list1[-2])"
   ]
  },
  {
   "cell_type": "code",
   "execution_count": 28,
   "metadata": {},
   "outputs": [
    {
     "name": "stdout",
     "output_type": "stream",
     "text": [
      "['Apple', 'Banana', 'Mango', 'Fruite']\n"
     ]
    }
   ],
   "source": [
    "list3 = [\"Apple\", \"Banana\", \"Mango\", \"Fruite\"]\n",
    "print(list3)"
   ]
  },
  {
   "cell_type": "code",
   "execution_count": 29,
   "metadata": {},
   "outputs": [
    {
     "name": "stdout",
     "output_type": "stream",
     "text": [
      "['Apple', 'Banana', 'Mango', 'Fruite']\n"
     ]
    }
   ],
   "source": [
    "list4 = list3\n",
    "print(list4)"
   ]
  },
  {
   "cell_type": "code",
   "execution_count": 33,
   "metadata": {},
   "outputs": [
    {
     "name": "stdout",
     "output_type": "stream",
     "text": [
      "['Apple', 'Banana', 'Mango', 'Fruite']\n",
      "['Apple', 'Banana', 'Mango', 'Fruite']\n",
      "['Melon', 'Banana', 'Mango', 'Fruite']\n",
      "['Melon', 'Banana', 'Mango', 'Fruite']\n"
     ]
    }
   ],
   "source": [
    "list3 = [\"Apple\", \"Banana\", \"Mango\", \"Fruite\"]\n",
    "list5 = list3\n",
    "print(list3)\n",
    "print(list5)\n",
    "list5[0] = \"Melon\"\n",
    "print(list3)\n",
    "print(list5)"
   ]
  },
  {
   "cell_type": "markdown",
   "metadata": {},
   "source": [
    "Learn about tuple"
   ]
  },
  {
   "cell_type": "code",
   "execution_count": 37,
   "metadata": {},
   "outputs": [
    {
     "name": "stdout",
     "output_type": "stream",
     "text": [
      "(3, True, 'Hello')\n",
      "3\n",
      "True\n",
      "Hello\n",
      "Hello3\n",
      "Hello 3\n",
      "a= 3 b= True c= Hello\n"
     ]
    }
   ],
   "source": [
    "x=3, True, \"Hello\"\n",
    "print(x)\n",
    "\n",
    "a, b, c, = x\n",
    "print(a)\n",
    "print(b)\n",
    "print(c)\n",
    "\n",
    "\n",
    "print(\"Hello\" + str(a))\n",
    "print(\"Hello\", str(a))\n",
    "\n",
    "print(\"a=\", a, \"b=\", b, \"c=\", c)"
   ]
  },
  {
   "cell_type": "code",
   "execution_count": 39,
   "metadata": {},
   "outputs": [
    {
     "name": "stdout",
     "output_type": "stream",
     "text": [
      "a: 10 b: 20\n",
      "a: 20 b: 10\n"
     ]
    }
   ],
   "source": [
    "a = 10\n",
    "b = 20\n",
    "print(\"a:\", a, \"b:\", b)\n",
    "c = a\n",
    "a = b\n",
    "b = c\n",
    "print(\"a:\", a, \"b:\", b)"
   ]
  },
  {
   "cell_type": "code",
   "execution_count": 40,
   "metadata": {
    "vscode": {
     "languageId": "javascript"
    }
   },
   "outputs": [
    {
     "name": "stdout",
     "output_type": "stream",
     "text": [
      "a: 10 b: 20\n",
      "a: 20 b: 10\n"
     ]
    }
   ],
   "source": [
    "a = 10\n",
    "b = 20\n",
    "print(\"a:\", a, \"b:\", b)\n",
    "\n",
    "a, b = b, a\n",
    "print(\"a:\", a, \"b:\", b)"
   ]
  },
  {
   "cell_type": "code",
   "execution_count": 52,
   "metadata": {},
   "outputs": [
    {
     "name": "stdout",
     "output_type": "stream",
     "text": [
      "138 46.0 Failed\n"
     ]
    }
   ],
   "source": [
    "def get_grade(eng, com, math):\n",
    "    total = (eng + com + math) \n",
    "    avg = total / 3\n",
    "    if avg >= 50:\n",
    "        return total, avg, \"Passed\"\n",
    "    return total, avg, \"Failed\"\n",
    "\n",
    "total, average, result = get_grade(40, 20,78)\n",
    "print(total, average, result)"
   ]
  },
  {
   "cell_type": "markdown",
   "metadata": {},
   "source": [
    "Learn set"
   ]
  },
  {
   "cell_type": "code",
   "execution_count": 57,
   "metadata": {},
   "outputs": [
    {
     "name": "stdout",
     "output_type": "stream",
     "text": [
      "{'android', 'iphone', 'xiaome', 'google', 'oppo'}\n",
      "{'android', 'huawia', 'iphone', 'xiaome', 'google', 'oppo'}\n",
      "{'android', 'huawia', 'iphone', 'google', 'oppo'}\n",
      "{'cat', 'android', 'huawia', 'iphone', 'dog', 'google', 'oppo'}\n",
      "cat\n",
      "android\n",
      "huawia\n",
      "iphone\n",
      "dog\n",
      "google\n",
      "oppo\n"
     ]
    }
   ],
   "source": [
    "x = {\"iphone\", \"google\", \"android\", \"xiaome\", \"google\", \"oppo\"}\n",
    "print(x)\n",
    "\n",
    "x.add(\"huawia\")\n",
    "print(x)\n",
    "\n",
    "x.remove(\"xiaome\")\n",
    "print(x)\n",
    "\n",
    "x.update({\"dog\", \"cat\"})\n",
    "print(x)\n",
    "\n",
    "for element in x:\n",
    "    print(element)"
   ]
  },
  {
   "cell_type": "code",
   "execution_count": 60,
   "metadata": {},
   "outputs": [
    {
     "name": "stdout",
     "output_type": "stream",
     "text": [
      "{'android', 'iphone', 'xiaome', 'google', 'oppo'}\n",
      "{'android', 'iphone', 'bye bye', 'hello', 'xiaome', 'google', 'oppo'}\n",
      "{'google'}\n"
     ]
    }
   ],
   "source": [
    "x = {\"iphone\", \"google\", \"android\", \"xiaome\", \"google\", \"oppo\"}\n",
    "print(x)\n",
    "\n",
    "y = {\"hello\", \"bye bye\",\"google\"}\n",
    "z = x.union(y)\n",
    "print(z)\n",
    "\n",
    "m = x.intersection(y)\n",
    "print(m)\n"
   ]
  },
  {
   "cell_type": "markdown",
   "metadata": {},
   "source": [
    "Learn dictionary in python"
   ]
  },
  {
   "cell_type": "code",
   "execution_count": 66,
   "metadata": {},
   "outputs": [
    {
     "name": "stdout",
     "output_type": "stream",
     "text": [
      "{'name': 'John', 'age': 30, 'city': 'New York'}\n",
      "Name: John\n",
      "{'name': 'John', 'age': 30, 'city': 'New York', 'dob': '1999'}\n",
      "{'name': 'John', 'city': 'New York', 'dob': '1999'}\n",
      "name\n",
      "city\n",
      "dob\n",
      "John\n",
      "New York\n",
      "1999\n",
      "name John\n",
      "city New York\n",
      "dob 1999\n"
     ]
    }
   ],
   "source": [
    "data = {\"name\":\"John\", \"age\":30, \"city\":\"New York\"}\n",
    "print(data)\n",
    "print(\"Name:\",data[\"name\"])\n",
    "\n",
    "data[\"dob\"] = \"1999\"\n",
    "print(data)\n",
    "\n",
    "data.pop(\"age\")\n",
    "print(data)\n",
    "\n",
    "for x in data.keys():\n",
    "    print(x)\n",
    "for x in data.values():\n",
    "    print(x)\n",
    "\n",
    "for x, y, in data.items():\n",
    "    print(x, y)"
   ]
  },
  {
   "cell_type": "markdown",
   "metadata": {},
   "source": [
    "Learn function python"
   ]
  },
  {
   "cell_type": "code",
   "execution_count": 71,
   "metadata": {},
   "outputs": [
    {
     "name": "stdout",
     "output_type": "stream",
     "text": [
      "30\n",
      "0\n",
      "10\n",
      "20\n",
      "5\n"
     ]
    }
   ],
   "source": [
    "def sum(a=0, b=0):\n",
    "    return a+b\n",
    "\n",
    "\n",
    "x = sum(10, 20)\n",
    "print(x)\n",
    "\n",
    "x = sum ()\n",
    "print (x)\n",
    "x = sum (a=10)\n",
    "print(x)\n",
    "x = sum (b=20)\n",
    "print (x)\n",
    "x = sum(5)\n",
    "print(x)"
   ]
  },
  {
   "cell_type": "code",
   "execution_count": 79,
   "metadata": {},
   "outputs": [
    {
     "name": "stdout",
     "output_type": "stream",
     "text": [
      "10\n",
      "20\n",
      "30\n",
      "None\n"
     ]
    }
   ],
   "source": [
    "def sum(*a):\n",
    "    print(a[0])\n",
    "    print(a[1])\n",
    "    print(a[2])\n",
    "\n",
    "print(sum(10,20,30))"
   ]
  },
  {
   "cell_type": "code",
   "execution_count": 95,
   "metadata": {},
   "outputs": [
    {
     "name": "stdout",
     "output_type": "stream",
     "text": [
      "10\n",
      "20\n",
      "30\n",
      "None\n"
     ]
    }
   ],
   "source": [
    "def calculate_score(*subjects):\n",
    "    total = sum(*subjects)\n",
    "    return total\n",
    "\n",
    "total = calculate_score(10, 20, 30)\n",
    "print(total)\n"
   ]
  },
  {
   "cell_type": "code",
   "execution_count": 98,
   "metadata": {},
   "outputs": [
    {
     "name": "stdout",
     "output_type": "stream",
     "text": [
      "70\n",
      "90\n",
      "<function display at 0x10db1c680>\n"
     ]
    }
   ],
   "source": [
    "def display(**a):\n",
    "    print(a[\"eng\"])\n",
    "    print(a[\"kh\"])\n",
    "\n",
    "display(eng=70, kh=90)\n",
    "print(display)"
   ]
  },
  {
   "cell_type": "code",
   "execution_count": 115,
   "metadata": {},
   "outputs": [
    {
     "name": "stdout",
     "output_type": "stream",
     "text": [
      "(34, 12, 56)\n"
     ]
    },
    {
     "ename": "IndexError",
     "evalue": "tuple index out of range",
     "output_type": "error",
     "traceback": [
      "\u001b[0;31m---------------------------------------------------------------------------\u001b[0m",
      "\u001b[0;31mIndexError\u001b[0m                                Traceback (most recent call last)",
      "Cell \u001b[0;32mIn[115], line 12\u001b[0m\n\u001b[1;32m      8\u001b[0m         result \u001b[38;5;241m=\u001b[39m \u001b[38;5;124m\"\u001b[39m\u001b[38;5;124mFailed\u001b[39m\u001b[38;5;124m\"\u001b[39m\n\u001b[1;32m     10\u001b[0m     \u001b[38;5;28;01mreturn\u001b[39;00m total, average, result\n\u001b[0;32m---> 12\u001b[0m grades \u001b[38;5;241m=\u001b[39m \u001b[43mcalculate_grade\u001b[49m\u001b[43m(\u001b[49m\u001b[38;5;241;43m34\u001b[39;49m\u001b[43m,\u001b[49m\u001b[43m \u001b[49m\u001b[38;5;241;43m12\u001b[39;49m\u001b[43m,\u001b[49m\u001b[43m \u001b[49m\u001b[38;5;241;43m56\u001b[39;49m\u001b[43m)\u001b[49m\n\u001b[1;32m     13\u001b[0m \u001b[38;5;28mprint\u001b[39m(\u001b[38;5;124m\"\u001b[39m\u001b[38;5;124mTotal Score:\u001b[39m\u001b[38;5;124m\"\u001b[39m, grades[\u001b[38;5;241m0\u001b[39m])\n\u001b[1;32m     14\u001b[0m \u001b[38;5;28mprint\u001b[39m(\u001b[38;5;124m\"\u001b[39m\u001b[38;5;124mAverage Score:\u001b[39m\u001b[38;5;124m\"\u001b[39m, grades[\u001b[38;5;241m1\u001b[39m])\n",
      "Cell \u001b[0;32mIn[115], line 2\u001b[0m, in \u001b[0;36mcalculate_grade\u001b[0;34m(*subjects)\u001b[0m\n\u001b[1;32m      1\u001b[0m \u001b[38;5;28;01mdef\u001b[39;00m \u001b[38;5;21mcalculate_grade\u001b[39m(\u001b[38;5;241m*\u001b[39msubjects):\n\u001b[0;32m----> 2\u001b[0m     total \u001b[38;5;241m=\u001b[39m \u001b[38;5;28;43msum\u001b[39;49m\u001b[43m(\u001b[49m\u001b[43msubjects\u001b[49m\u001b[43m)\u001b[49m\n\u001b[1;32m      3\u001b[0m     average \u001b[38;5;241m=\u001b[39m total \u001b[38;5;241m/\u001b[39m \u001b[38;5;28mlen\u001b[39m(subjects)\n\u001b[1;32m      5\u001b[0m     \u001b[38;5;28;01mif\u001b[39;00m average \u001b[38;5;241m>\u001b[39m\u001b[38;5;241m=\u001b[39m \u001b[38;5;241m50\u001b[39m:\n",
      "Cell \u001b[0;32mIn[79], line 3\u001b[0m, in \u001b[0;36msum\u001b[0;34m(*a)\u001b[0m\n\u001b[1;32m      1\u001b[0m \u001b[38;5;28;01mdef\u001b[39;00m \u001b[38;5;21msum\u001b[39m(\u001b[38;5;241m*\u001b[39ma):\n\u001b[1;32m      2\u001b[0m     \u001b[38;5;28mprint\u001b[39m(a[\u001b[38;5;241m0\u001b[39m])\n\u001b[0;32m----> 3\u001b[0m     \u001b[38;5;28mprint\u001b[39m(\u001b[43ma\u001b[49m\u001b[43m[\u001b[49m\u001b[38;5;241;43m1\u001b[39;49m\u001b[43m]\u001b[49m)\n\u001b[1;32m      4\u001b[0m     \u001b[38;5;28mprint\u001b[39m(a[\u001b[38;5;241m2\u001b[39m])\n",
      "\u001b[0;31mIndexError\u001b[0m: tuple index out of range"
     ]
    }
   ],
   "source": [
    "def calculate_grade(*subjects):\n",
    "    total = sum(subjects)\n",
    "    average = total / len(subjects)\n",
    "\n",
    "    if average >= 50:\n",
    "        result = \"Passed\"\n",
    "    else:\n",
    "        result = \"Failed\"\n",
    "\n",
    "    return total, average, result\n",
    "\n",
    "grades = calculate_grade(34, 12, 56)\n",
    "print(\"Total Score:\", grades[0])\n",
    "print(\"Average Score:\", grades[1])\n",
    "print(\"Result:\", grades[2])\n"
   ]
  },
  {
   "cell_type": "markdown",
   "metadata": {},
   "source": [
    "Learn lamda"
   ]
  },
  {
   "cell_type": "code",
   "execution_count": 116,
   "metadata": {},
   "outputs": [
    {
     "name": "stdout",
     "output_type": "stream",
     "text": [
      "30 30\n"
     ]
    }
   ],
   "source": [
    "x = lambda a, b: a + b\n",
    "y = x\n",
    "a = x(10, 20)\n",
    "b = y(10, 20)\n",
    "print(a,b)"
   ]
  },
  {
   "cell_type": "code",
   "execution_count": 117,
   "metadata": {},
   "outputs": [
    {
     "name": "stdout",
     "output_type": "stream",
     "text": [
      "50\n"
     ]
    }
   ],
   "source": [
    "z = (lambda a, b: a + b)(20, 30)\n",
    "print(z)"
   ]
  },
  {
   "cell_type": "code",
   "execution_count": 129,
   "metadata": {},
   "outputs": [
    {
     "ename": "TypeError",
     "evalue": "'list' object is not callable",
     "output_type": "error",
     "traceback": [
      "\u001b[0;31m---------------------------------------------------------------------------\u001b[0m",
      "\u001b[0;31mTypeError\u001b[0m                                 Traceback (most recent call last)",
      "Cell \u001b[0;32mIn[129], line 3\u001b[0m\n\u001b[1;32m      1\u001b[0m numbers \u001b[38;5;241m=\u001b[39m [\u001b[38;5;241m4\u001b[39m, \u001b[38;5;241m5\u001b[39m, \u001b[38;5;241m3\u001b[39m, \u001b[38;5;241m1\u001b[39m, \u001b[38;5;241m2\u001b[39m]\n\u001b[1;32m      2\u001b[0m newnum \u001b[38;5;241m=\u001b[39m \u001b[38;5;28mfilter\u001b[39m(\u001b[38;5;28;01mlambda\u001b[39;00m x: x \u001b[38;5;241m>\u001b[39m\u001b[38;5;241m=\u001b[39m \u001b[38;5;241m3\u001b[39m, numbers)\n\u001b[0;32m----> 3\u001b[0m result_list \u001b[38;5;241m=\u001b[39m \u001b[38;5;28;43mlist\u001b[39;49m\u001b[43m(\u001b[49m\u001b[43mnewnum\u001b[49m\u001b[43m)\u001b[49m\n\u001b[1;32m      4\u001b[0m \u001b[38;5;28mprint\u001b[39m(\u001b[38;5;28mstr\u001b[39m(result_list))\n",
      "\u001b[0;31mTypeError\u001b[0m: 'list' object is not callable"
     ]
    }
   ],
   "source": [
    "numbers = [4, 5, 3, 1, 2]\n",
    "newnum = filter(lambda x: x >= 3, numbers)\n",
    "result_list = list(newnum)\n",
    "print(result_list)\n"
   ]
  },
  {
   "cell_type": "code",
   "execution_count": 132,
   "metadata": {},
   "outputs": [
    {
     "name": "stdout",
     "output_type": "stream",
     "text": [
      "total = 15\n"
     ]
    }
   ],
   "source": [
    "import functools\n",
    "\n",
    "\n",
    "total = functools.reduce(lambda a, b: a+b,numbers)\n",
    "print(\"total =\",total)"
   ]
  },
  {
   "cell_type": "code",
   "execution_count": 135,
   "metadata": {},
   "outputs": [
    {
     "ename": "TypeError",
     "evalue": "'list' object is not callable",
     "output_type": "error",
     "traceback": [
      "\u001b[0;31m---------------------------------------------------------------------------\u001b[0m",
      "\u001b[0;31mTypeError\u001b[0m                                 Traceback (most recent call last)",
      "Cell \u001b[0;32mIn[135], line 3\u001b[0m\n\u001b[1;32m      1\u001b[0m fruits \u001b[38;5;241m=\u001b[39m [\u001b[38;5;124m\"\u001b[39m\u001b[38;5;124mApples\u001b[39m\u001b[38;5;124m\"\u001b[39m, \u001b[38;5;124m\"\u001b[39m\u001b[38;5;124mApricot\u001b[39m\u001b[38;5;124m\"\u001b[39m, \u001b[38;5;124m\"\u001b[39m\u001b[38;5;124mBanana\u001b[39m\u001b[38;5;124m\"\u001b[39m, \u001b[38;5;124m\"\u001b[39m\u001b[38;5;124mBlackberry\u001b[39m\u001b[38;5;124m\"\u001b[39m, \u001b[38;5;124m\"\u001b[39m\u001b[38;5;124mBlueberry\u001b[39m\u001b[38;5;124m\"\u001b[39m, \u001b[38;5;124m\"\u001b[39m\u001b[38;5;124mBoysenberry\u001b[39m\u001b[38;5;124m\"\u001b[39m, \u001b[38;5;124m\"\u001b[39m\u001b[38;5;124mCanary Melon\u001b[39m\u001b[38;5;124m\"\u001b[39m]\n\u001b[1;32m      2\u001b[0m found \u001b[38;5;241m=\u001b[39m \u001b[38;5;28mfilter\u001b[39m(\u001b[38;5;28;01mlambda\u001b[39;00m x: x\u001b[38;5;241m==\u001b[39m\u001b[38;5;124m\"\u001b[39m\u001b[38;5;124mApples\u001b[39m\u001b[38;5;124m\"\u001b[39m,fruits)\n\u001b[0;32m----> 3\u001b[0m \u001b[38;5;28mprint\u001b[39m(\u001b[38;5;28;43mlist\u001b[39;49m\u001b[43m(\u001b[49m\u001b[43mfound\u001b[49m\u001b[43m)\u001b[49m)\n",
      "\u001b[0;31mTypeError\u001b[0m: 'list' object is not callable"
     ]
    }
   ],
   "source": [
    "fruits = [\"Apples\", \"Apricot\", \"Banana\", \"Blackberry\", \"Blueberry\", \"Boysenberry\", \"Canary Melon\"]\n",
    "found = filter(lambda x: x==\"Apples\",fruits)\n",
    "print(list(found))"
   ]
  },
  {
   "cell_type": "code",
   "execution_count": null,
   "metadata": {},
   "outputs": [],
   "source": []
  }
 ],
 "metadata": {
  "kernelspec": {
   "display_name": "Python 3",
   "language": "python",
   "name": "python3"
  },
  "language_info": {
   "codemirror_mode": {
    "name": "ipython",
    "version": 3
   },
   "file_extension": ".py",
   "mimetype": "text/x-python",
   "name": "python",
   "nbconvert_exporter": "python",
   "pygments_lexer": "ipython3",
   "version": "3.11.4"
  }
 },
 "nbformat": 4,
 "nbformat_minor": 2
}
