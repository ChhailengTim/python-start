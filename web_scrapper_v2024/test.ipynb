{
 "cells": [
  {
   "cell_type": "code",
   "execution_count": 8,
   "metadata": {},
   "outputs": [
    {
     "ename": "AttributeError",
     "evalue": "module 'requests' has no attribute 'GraphAPI'",
     "output_type": "error",
     "traceback": [
      "\u001b[0;31m---------------------------------------------------------------------------\u001b[0m",
      "\u001b[0;31mAttributeError\u001b[0m                            Traceback (most recent call last)",
      "Cell \u001b[0;32mIn[8], line 21\u001b[0m\n\u001b[1;32m     19\u001b[0m \u001b[38;5;66;03m# Replace 'your_access_token' with the actual access token\u001b[39;00m\n\u001b[1;32m     20\u001b[0m access_token \u001b[38;5;241m=\u001b[39m \u001b[38;5;124m'\u001b[39m\u001b[38;5;124m'\u001b[39m\n\u001b[0;32m---> 21\u001b[0m \u001b[43mget_facebook_photos\u001b[49m\u001b[43m(\u001b[49m\u001b[43maccess_token\u001b[49m\u001b[43m)\u001b[49m\n",
      "Cell \u001b[0;32mIn[8], line 4\u001b[0m, in \u001b[0;36mget_facebook_photos\u001b[0;34m(access_token)\u001b[0m\n\u001b[1;32m      3\u001b[0m \u001b[38;5;28;01mdef\u001b[39;00m \u001b[38;5;21mget_facebook_photos\u001b[39m(access_token):\n\u001b[0;32m----> 4\u001b[0m     graph \u001b[38;5;241m=\u001b[39m \u001b[43mrequests\u001b[49m\u001b[38;5;241;43m.\u001b[39;49m\u001b[43mGraphAPI\u001b[49m(access_token)\n\u001b[1;32m      6\u001b[0m     \u001b[38;5;28;01mtry\u001b[39;00m:\n\u001b[1;32m      7\u001b[0m         \u001b[38;5;66;03m# Make API request to get user's photos\u001b[39;00m\n\u001b[1;32m      8\u001b[0m         photos_data \u001b[38;5;241m=\u001b[39m graph\u001b[38;5;241m.\u001b[39mget_object(\u001b[38;5;124m\"\u001b[39m\u001b[38;5;124m/me/photos\u001b[39m\u001b[38;5;124m\"\u001b[39m)\n",
      "\u001b[0;31mAttributeError\u001b[0m: module 'requests' has no attribute 'GraphAPI'"
     ]
    }
   ],
   "source": [
    "import requests\n",
    "\n",
    "def get_facebook_photos(access_token):\n",
    "    graph = requests.GraphAPI(access_token)\n",
    "\n",
    "    try:\n",
    "        # Make API request to get user's photos\n",
    "        photos_data = graph.get_object(\"/me/photos\")\n",
    "\n",
    "        for photo in photos_data.get('data', []):\n",
    "            print(f\"Photo ID: {photo.get('id')}\")\n",
    "            print(f\"Created Time: {photo.get('created_time')}\")\n",
    "            print(f\"Picture URL: {photo.get('picture')}\")\n",
    "            print(\"\\n\")\n",
    "\n",
    "    except requests.GraphAPIError as e:\n",
    "        print(f\"Error: {e.message}\")\n",
    "\n",
    "# Replace 'your_access_token' with the actual access token\n",
    "access_token = ''\n",
    "get_facebook_photos(access_token)\n"
   ]
  }
 ],
 "metadata": {
  "kernelspec": {
   "display_name": "base",
   "language": "python",
   "name": "python3"
  },
  "language_info": {
   "codemirror_mode": {
    "name": "ipython",
    "version": 3
   },
   "file_extension": ".py",
   "mimetype": "text/x-python",
   "name": "python",
   "nbconvert_exporter": "python",
   "pygments_lexer": "ipython3",
   "version": "3.10.9"
  }
 },
 "nbformat": 4,
 "nbformat_minor": 2
}
