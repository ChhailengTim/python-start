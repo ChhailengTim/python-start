{
 "cells": [
  {
   "cell_type": "code",
   "execution_count": 160,
   "metadata": {},
   "outputs": [],
   "source": [
    "from selenium import webdriver\n",
    "from selenium.webdriver.common.keys import Keys\n",
    "from webdriver_manager.chrome import ChromeDriverManager\n",
    "from selenium.webdriver.common.by import By\n",
    "\n",
    "import requests\n",
    "from bs4 import BeautifulSoup\n",
    "\n",
    "import time\n"
   ]
  },
  {
   "cell_type": "code",
   "execution_count": 161,
   "metadata": {},
   "outputs": [
    {
     "name": "stderr",
     "output_type": "stream",
     "text": [
      "/var/folders/bh/3yn_1rsd3fn2j2cnydsmxnz40000gn/T/ipykernel_2565/1503906442.py:1: DeprecationWarning: executable_path has been deprecated, please pass in a Service object\n",
      "  driver = webdriver.Chrome(ChromeDriverManager().install())\n"
     ]
    }
   ],
   "source": [
    "driver = webdriver.Chrome(ChromeDriverManager().install())"
   ]
  },
  {
   "cell_type": "code",
   "execution_count": 200,
   "metadata": {},
   "outputs": [],
   "source": [
    "driver.get('https://www.fb.com/')"
   ]
  },
  {
   "cell_type": "code",
   "execution_count": 163,
   "metadata": {},
   "outputs": [],
   "source": [
    "bot_email = driver.find_element(By.ID,'email')\n",
    "bot_email.send_keys('remove')\n",
    "bot_pass = driver.find_element(By.ID,'pass')\n",
    "bot_pass.send_keys('remove')\n",
    "\n",
    "bot_pass.send_keys(Keys.RETURN)"
   ]
  },
  {
   "cell_type": "code",
   "execution_count": 166,
   "metadata": {},
   "outputs": [],
   "source": [
    "driver.get('https://web.facebook.com/profile.php?id=100086220253926&sk=photos')"
   ]
  },
  {
   "cell_type": "code",
   "execution_count": 116,
   "metadata": {},
   "outputs": [],
   "source": [
    "for _ in range(10):\n",
    "    driver.find_element('tag name', 'body').send_keys(Keys.END)\n",
    "    time.sleep(3)"
   ]
  },
  {
   "cell_type": "code",
   "execution_count": 190,
   "metadata": {},
   "outputs": [
    {
     "name": "stdout",
     "output_type": "stream",
     "text": [
      "4823\n"
     ]
    }
   ],
   "source": [
    "html = driver.page_source"
   ]
  },
  {
   "cell_type": "code",
   "execution_count": 181,
   "metadata": {},
   "outputs": [],
   "source": [
    "soup = BeautifulSoup(html,'html.parser')"
   ]
  },
  {
   "cell_type": "code",
   "execution_count": 183,
   "metadata": {},
   "outputs": [
    {
     "name": "stdout",
     "output_type": "stream",
     "text": [
      "<img alt=\"\" class=\"xz74otr x1ey2m1c x9f619 xds687c x5yr21d x10l6tqk x17qophe x13vifvy xh8yej3\" referrerpolicy=\"origin-when-cross-origin\" src=\"https://scontent.fpnh18-5.fna.fbcdn.net/v/t39.30808-6/307537576_107159412159499_5544147755125229817_n.jpg?stp=dst-jpg_fb50_s320x320&amp;_nc_cat=105&amp;ccb=1-7&amp;_nc_sid=5f2048&amp;_nc_eui2=AeFGSIJNM5Ig1WhjuMHpwe67v7DEDygd0Ze_sMQPKB3Rl5vjYdX7YPOSj2sde10jNrcrp1f3l3qNBNcBX3K3V-TA&amp;_nc_ohc=E-lKI5i6JAUAX8qe9vs&amp;_nc_zt=23&amp;_nc_ht=scontent.fpnh18-5.fna&amp;cb_e2o_trans=t&amp;oh=00_AfB2Kdm7F2MmpFt7dU1HQl5KTT3Ec2T2UapYMJB_W3xL0g&amp;oe=65F3D9FE\"/>\n"
     ]
    }
   ],
   "source": [
    "images = soup.find('img')\n",
    "print(images)"
   ]
  },
  {
   "cell_type": "code",
   "execution_count": 185,
   "metadata": {},
   "outputs": [],
   "source": [
    "for img_tag in images:\n",
    "    src = img_tag.get('src')\n",
    "    if src:\n",
    "        print(src)"
   ]
  }
 ],
 "metadata": {
  "kernelspec": {
   "display_name": "base",
   "language": "python",
   "name": "python3"
  },
  "language_info": {
   "codemirror_mode": {
    "name": "ipython",
    "version": 3
   },
   "file_extension": ".py",
   "mimetype": "text/x-python",
   "name": "python",
   "nbconvert_exporter": "python",
   "pygments_lexer": "ipython3",
   "version": "3.10.9"
  }
 },
 "nbformat": 4,
 "nbformat_minor": 2
}
